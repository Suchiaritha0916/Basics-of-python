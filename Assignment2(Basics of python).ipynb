{
 "cells": [
  {
   "cell_type": "markdown",
   "id": "4ecb6351-7a9e-4cd1-aa2a-d5a295729d7c",
   "metadata": {},
   "source": [
    "## 1.Prime Number"
   ]
  },
  {
   "cell_type": "raw",
   "id": "097fa534-35c6-4e21-aaef-81682e0b2aa3",
   "metadata": {},
   "source": [
    "->checking whether the given number is prime or not a prime"
   ]
  },
  {
   "cell_type": "code",
   "execution_count": null,
   "id": "d6e9c149-2fcc-42bc-96b6-0b811b7254ee",
   "metadata": {},
   "outputs": [],
   "source": [
    "#A prime number can only be divided by 1 and itself without leaving a remainder.\n",
    "#If a number has more than two factors, it's not a prime."
   ]
  },
  {
   "cell_type": "code",
   "execution_count": 9,
   "id": "5ca5992e-3022-413a-88f4-3f9611b0bc49",
   "metadata": {},
   "outputs": [
    {
     "name": "stdin",
     "output_type": "stream",
     "text": [
      "Enter a value : 6\n"
     ]
    },
    {
     "name": "stdout",
     "output_type": "stream",
     "text": [
      "The Given Value is not a Prime\n"
     ]
    }
   ],
   "source": [
    "#prime or not a prime\n",
    "num=int(input(\"Enter a value :\"))\n",
    "for i in range (2,num):\n",
    "    if num % i==0:\n",
    "        print(\"The Given Value is not a Prime\")\n",
    "        break\n",
    "else:\n",
    "    print(\"The Given value is a Prime Number\")"
   ]
  },
  {
   "cell_type": "markdown",
   "id": "bb902780-644a-4954-8936-45412ac694fd",
   "metadata": {},
   "source": [
    "## 2.Product of Random Numbers"
   ]
  },
  {
   "cell_type": "raw",
   "id": "3b032c80-4f3d-4cee-9e96-5802813f3294",
   "metadata": {},
   "source": [
    "->product of two numbers(Multiplying the 2 numbers)"
   ]
  },
  {
   "cell_type": "code",
   "execution_count": 4,
   "id": "d58ada79-1991-4264-ae58-c92b47efbe3c",
   "metadata": {},
   "outputs": [
    {
     "name": "stdout",
     "output_type": "stream",
     "text": [
      "Product of Two random Numbers 2 * 8\n"
     ]
    },
    {
     "name": "stdin",
     "output_type": "stream",
     "text": [
      "Enter your answer:  16\n"
     ]
    },
    {
     "name": "stdout",
     "output_type": "stream",
     "text": [
      "Correct\n"
     ]
    }
   ],
   "source": [
    "import random\n",
    "a = random.randint(1, 10)\n",
    "b = random.randint(1, 10)\n",
    "print(\"Product of Two random Numbers\", a, \"*\", b,)\n",
    "ran = int(input(\"Enter your answer: \"))\n",
    "if ran == a * b:\n",
    "    print(\"Correct\")\n",
    "else:\n",
    "    print(\"Wrong\")"
   ]
  },
  {
   "cell_type": "markdown",
   "id": "d852e03c-90b6-4ee3-8254-56561a61cdba",
   "metadata": {},
   "source": [
    "## 3.Squares of Even/Odd NUmbers"
   ]
  },
  {
   "cell_type": "code",
   "execution_count": 1,
   "id": "583399a2-10c4-4205-92a2-75109d900e0b",
   "metadata": {},
   "outputs": [
    {
     "name": "stdin",
     "output_type": "stream",
     "text": [
      "Do you want squares of 'even' or 'odd' numbers?  23\n"
     ]
    },
    {
     "name": "stdout",
     "output_type": "stream",
     "text": [
      "Invalid choice! Please enter 'even' or 'odd'.\n"
     ]
    }
   ],
   "source": [
    "# Ask user for choice\n",
    "choice = input(\"Do you want squares of 'even' or 'odd' numbers? \").strip().lower()\n",
    "# Loop through numbers 100 to 200\n",
    "for num in range(100, 201):\n",
    "    if choice == \"even\" and num % 2 == 0:\n",
    "        print(f\"{num}² = {num**2}\")\n",
    "    elif choice == \"odd\" and num % 2 != 0:\n",
    "        print(f\"{num}² = {num**2}\")\n",
    "# If user enters something invalid\n",
    "if choice not in [\"even\", \"odd\"]:\n",
    "    print(\"Invalid choice! Please enter 'even' or 'odd'.\")"
   ]
  },
  {
   "cell_type": "markdown",
   "id": "74ff7a46-3fcc-4a7e-9a17-429385a0d0b5",
   "metadata": {},
   "source": [
    "## 4.Word counter"
   ]
  },
  {
   "cell_type": "code",
   "execution_count": 27,
   "id": "84d5491d-aa75-4e51-ae0c-0845f7a6b3a4",
   "metadata": {},
   "outputs": [
    {
     "name": "stdout",
     "output_type": "stream",
     "text": [
      "This = 2\n",
      "is = 1\n",
      "a = 1\n",
      "sample = 1\n",
      "text. = 1\n",
      "This = 2\n",
      "text = 1\n",
      "will = 1\n",
      "be = 1\n",
      "used = 1\n",
      "to = 1\n",
      "demonstrate = 1\n",
      "the = 1\n",
      "word = 1\n",
      "counter. = 1\n"
     ]
    }
   ],
   "source": [
    "Text = \"This is a sample text. This text will be used to demonstrate the word counter.\"\n",
    "words = Text.split()\n",
    "for word in words:\n",
    "    print(word, \"=\", words.count(word))"
   ]
  },
  {
   "cell_type": "markdown",
   "id": "cb5cd16d-dd0a-4b28-9d3b-0cf3a9063ebf",
   "metadata": {},
   "source": [
    "## 5.Check for Palindrome"
   ]
  },
  {
   "cell_type": "raw",
   "id": "96650c35-48a0-4488-8d16-84ee6440efb0",
   "metadata": {},
   "source": [
    "-> It reads the same forward and backward, so it’s a palindrome."
   ]
  },
  {
   "cell_type": "code",
   "execution_count": 9,
   "id": "36f21049-9e5a-4f3a-8635-1eabedbc231a",
   "metadata": {},
   "outputs": [],
   "source": [
    "def is_palindrome_slicing(text):\n",
    "    text = ''.join(c.lower() for c in text if c.isalnum())  # Normalize\n",
    "    return text == text[::-1]"
   ]
  },
  {
   "cell_type": "code",
   "execution_count": 11,
   "id": "8d0257b5-cf21-45e6-9432-f393b7e156dd",
   "metadata": {},
   "outputs": [
    {
     "name": "stdin",
     "output_type": "stream",
     "text": [
      "Enter a word or phrase:  racecar\n"
     ]
    },
    {
     "name": "stdout",
     "output_type": "stream",
     "text": [
      "Palindrome (checked with slicing)\n"
     ]
    }
   ],
   "source": [
    "word = input(\"Enter a word or phrase: \")\n",
    "if is_palindrome_slicing(word):\n",
    "    print(\"Palindrome (checked with slicing)\")\n",
    "else:\n",
    "    print(\"Not a palindrome (checked with slicing)\")"
   ]
  },
  {
   "cell_type": "code",
   "execution_count": null,
   "id": "2e6248ad-8a63-46c9-b7a0-3ba37bb11448",
   "metadata": {},
   "outputs": [],
   "source": []
  }
 ],
 "metadata": {
  "kernelspec": {
   "display_name": "Python [conda env:base] *",
   "language": "python",
   "name": "conda-base-py"
  },
  "language_info": {
   "codemirror_mode": {
    "name": "ipython",
    "version": 3
   },
   "file_extension": ".py",
   "mimetype": "text/x-python",
   "name": "python",
   "nbconvert_exporter": "python",
   "pygments_lexer": "ipython3",
   "version": "3.12.7"
  }
 },
 "nbformat": 4,
 "nbformat_minor": 5
}
